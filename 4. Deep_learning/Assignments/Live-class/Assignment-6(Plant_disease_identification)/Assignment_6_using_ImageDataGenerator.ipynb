{
 "cells": [
  {
   "cell_type": "code",
   "execution_count": 101,
   "id": "3c9418f8",
   "metadata": {},
   "outputs": [],
   "source": [
    "# importing required libraries\n",
    "\n",
    "import os\n",
    "import tensorflow as tf\n",
    "import datetime\n",
    "from tensorflow import keras\n",
    "from skimage import io\n",
    "import matplotlib.pyplot as plt\n",
    "import pandas as pd\n",
    "import numpy as np\n",
    "from sklearn.model_selection import train_test_split\n",
    "from tensorflow.keras.optimizers import RMSprop, SGD, Adam\n",
    "from tensorflow.keras.callbacks import EarlyStopping, ModelCheckpoint\n",
    "from tensorflow.keras import Sequential\n",
    "from tensorflow.keras.models import Model\n",
    "#%load_ext tensorboard\n",
    "import seaborn as sns\n",
    "import Augmentor\n",
    "from keras.models import Sequential\n",
    "#Import from keras_preprocessing not from keras.preprocessing\n",
    "from keras_preprocessing.image import ImageDataGenerator\n",
    "from keras.layers import Dense, Activation, Flatten, Dropout, BatchNormalization, ZeroPadding2D\n",
    "from keras.layers import Conv2D, MaxPooling2D\n",
    "from keras import regularizers, optimizers"
   ]
  },
  {
   "cell_type": "markdown",
   "id": "ac25f045",
   "metadata": {},
   "source": [
    "### Question-1\n",
    "\n",
    "### Part a):- Performing EDA of the given dataset"
   ]
  },
  {
   "cell_type": "code",
   "execution_count": 33,
   "id": "da9c7dfa",
   "metadata": {},
   "outputs": [],
   "source": [
    "df = pd.read_csv(r'C:\\Users\\conno\\Downloads\\work\\1. Study(main objective)\\Artificial Intelligence\\4. Intellipaat AI course\\Modules\\3. AI(DEEP LEARNING)\\Assignments\\Live-class\\Assignment-6\\train.csv', index_col = 0)"
   ]
  },
  {
   "cell_type": "code",
   "execution_count": 34,
   "id": "68d83603",
   "metadata": {},
   "outputs": [
    {
     "data": {
      "text/html": [
       "<div>\n",
       "<style scoped>\n",
       "    .dataframe tbody tr th:only-of-type {\n",
       "        vertical-align: middle;\n",
       "    }\n",
       "\n",
       "    .dataframe tbody tr th {\n",
       "        vertical-align: top;\n",
       "    }\n",
       "\n",
       "    .dataframe thead th {\n",
       "        text-align: right;\n",
       "    }\n",
       "</style>\n",
       "<table border=\"1\" class=\"dataframe\">\n",
       "  <thead>\n",
       "    <tr style=\"text-align: right;\">\n",
       "      <th></th>\n",
       "      <th>healthy</th>\n",
       "      <th>multiple_diseases</th>\n",
       "      <th>rust</th>\n",
       "      <th>scab</th>\n",
       "    </tr>\n",
       "    <tr>\n",
       "      <th>image_id</th>\n",
       "      <th></th>\n",
       "      <th></th>\n",
       "      <th></th>\n",
       "      <th></th>\n",
       "    </tr>\n",
       "  </thead>\n",
       "  <tbody>\n",
       "    <tr>\n",
       "      <th>Train_0</th>\n",
       "      <td>0</td>\n",
       "      <td>0</td>\n",
       "      <td>0</td>\n",
       "      <td>1</td>\n",
       "    </tr>\n",
       "    <tr>\n",
       "      <th>Train_1</th>\n",
       "      <td>0</td>\n",
       "      <td>1</td>\n",
       "      <td>0</td>\n",
       "      <td>0</td>\n",
       "    </tr>\n",
       "    <tr>\n",
       "      <th>Train_2</th>\n",
       "      <td>1</td>\n",
       "      <td>0</td>\n",
       "      <td>0</td>\n",
       "      <td>0</td>\n",
       "    </tr>\n",
       "    <tr>\n",
       "      <th>Train_3</th>\n",
       "      <td>0</td>\n",
       "      <td>0</td>\n",
       "      <td>1</td>\n",
       "      <td>0</td>\n",
       "    </tr>\n",
       "    <tr>\n",
       "      <th>Train_4</th>\n",
       "      <td>1</td>\n",
       "      <td>0</td>\n",
       "      <td>0</td>\n",
       "      <td>0</td>\n",
       "    </tr>\n",
       "  </tbody>\n",
       "</table>\n",
       "</div>"
      ],
      "text/plain": [
       "          healthy  multiple_diseases  rust  scab\n",
       "image_id                                        \n",
       "Train_0         0                  0     0     1\n",
       "Train_1         0                  1     0     0\n",
       "Train_2         1                  0     0     0\n",
       "Train_3         0                  0     1     0\n",
       "Train_4         1                  0     0     0"
      ]
     },
     "execution_count": 34,
     "metadata": {},
     "output_type": "execute_result"
    }
   ],
   "source": [
    "df.head()"
   ]
  },
  {
   "cell_type": "code",
   "execution_count": 35,
   "id": "32d8922e",
   "metadata": {},
   "outputs": [
    {
     "data": {
      "text/plain": [
       "(1821, 4)"
      ]
     },
     "execution_count": 35,
     "metadata": {},
     "output_type": "execute_result"
    }
   ],
   "source": [
    "df.shape"
   ]
  },
  {
   "cell_type": "code",
   "execution_count": 36,
   "id": "10cac4c6",
   "metadata": {},
   "outputs": [
    {
     "data": {
      "text/plain": [
       "healthy              0\n",
       "multiple_diseases    0\n",
       "rust                 0\n",
       "scab                 0\n",
       "dtype: int64"
      ]
     },
     "execution_count": 36,
     "metadata": {},
     "output_type": "execute_result"
    }
   ],
   "source": [
    "#checking for null values\n",
    "\n",
    "df.isnull().sum()"
   ]
  },
  {
   "cell_type": "code",
   "execution_count": 109,
   "id": "90212048",
   "metadata": {},
   "outputs": [
    {
     "name": "stdout",
     "output_type": "stream",
     "text": [
      "(1456, 4)\n",
      "(365, 4)\n"
     ]
    }
   ],
   "source": [
    "from sklearn.model_selection import train_test_split\n",
    "\n",
    "traindf, cvdf = train_test_split(df, test_size=0.2, random_state=42)\n",
    "\n",
    "print(traindf.shape)\n",
    "print(cvdf.shape)"
   ]
  },
  {
   "cell_type": "code",
   "execution_count": 118,
   "id": "dcbf992f",
   "metadata": {},
   "outputs": [
    {
     "data": {
      "text/html": [
       "<div>\n",
       "<style scoped>\n",
       "    .dataframe tbody tr th:only-of-type {\n",
       "        vertical-align: middle;\n",
       "    }\n",
       "\n",
       "    .dataframe tbody tr th {\n",
       "        vertical-align: top;\n",
       "    }\n",
       "\n",
       "    .dataframe thead th {\n",
       "        text-align: right;\n",
       "    }\n",
       "</style>\n",
       "<table border=\"1\" class=\"dataframe\">\n",
       "  <thead>\n",
       "    <tr style=\"text-align: right;\">\n",
       "      <th></th>\n",
       "      <th>healthy</th>\n",
       "      <th>multiple_diseases</th>\n",
       "      <th>rust</th>\n",
       "      <th>scab</th>\n",
       "    </tr>\n",
       "    <tr>\n",
       "      <th>image_id</th>\n",
       "      <th></th>\n",
       "      <th></th>\n",
       "      <th></th>\n",
       "      <th></th>\n",
       "    </tr>\n",
       "  </thead>\n",
       "  <tbody>\n",
       "    <tr>\n",
       "      <th>Train_1455</th>\n",
       "      <td>0</td>\n",
       "      <td>0</td>\n",
       "      <td>1</td>\n",
       "      <td>0</td>\n",
       "    </tr>\n",
       "    <tr>\n",
       "      <th>Train_1552</th>\n",
       "      <td>1</td>\n",
       "      <td>0</td>\n",
       "      <td>0</td>\n",
       "      <td>0</td>\n",
       "    </tr>\n",
       "    <tr>\n",
       "      <th>Train_300</th>\n",
       "      <td>1</td>\n",
       "      <td>0</td>\n",
       "      <td>0</td>\n",
       "      <td>0</td>\n",
       "    </tr>\n",
       "    <tr>\n",
       "      <th>Train_1708</th>\n",
       "      <td>0</td>\n",
       "      <td>1</td>\n",
       "      <td>0</td>\n",
       "      <td>0</td>\n",
       "    </tr>\n",
       "    <tr>\n",
       "      <th>Train_611</th>\n",
       "      <td>0</td>\n",
       "      <td>0</td>\n",
       "      <td>1</td>\n",
       "      <td>0</td>\n",
       "    </tr>\n",
       "    <tr>\n",
       "      <th>...</th>\n",
       "      <td>...</td>\n",
       "      <td>...</td>\n",
       "      <td>...</td>\n",
       "      <td>...</td>\n",
       "    </tr>\n",
       "    <tr>\n",
       "      <th>Train_1130</th>\n",
       "      <td>0</td>\n",
       "      <td>0</td>\n",
       "      <td>0</td>\n",
       "      <td>1</td>\n",
       "    </tr>\n",
       "    <tr>\n",
       "      <th>Train_1294</th>\n",
       "      <td>0</td>\n",
       "      <td>0</td>\n",
       "      <td>0</td>\n",
       "      <td>1</td>\n",
       "    </tr>\n",
       "    <tr>\n",
       "      <th>Train_860</th>\n",
       "      <td>0</td>\n",
       "      <td>0</td>\n",
       "      <td>1</td>\n",
       "      <td>0</td>\n",
       "    </tr>\n",
       "    <tr>\n",
       "      <th>Train_1459</th>\n",
       "      <td>1</td>\n",
       "      <td>0</td>\n",
       "      <td>0</td>\n",
       "      <td>0</td>\n",
       "    </tr>\n",
       "    <tr>\n",
       "      <th>Train_1126</th>\n",
       "      <td>0</td>\n",
       "      <td>0</td>\n",
       "      <td>1</td>\n",
       "      <td>0</td>\n",
       "    </tr>\n",
       "  </tbody>\n",
       "</table>\n",
       "<p>1456 rows × 4 columns</p>\n",
       "</div>"
      ],
      "text/plain": [
       "            healthy  multiple_diseases  rust  scab\n",
       "image_id                                          \n",
       "Train_1455        0                  0     1     0\n",
       "Train_1552        1                  0     0     0\n",
       "Train_300         1                  0     0     0\n",
       "Train_1708        0                  1     0     0\n",
       "Train_611         0                  0     1     0\n",
       "...             ...                ...   ...   ...\n",
       "Train_1130        0                  0     0     1\n",
       "Train_1294        0                  0     0     1\n",
       "Train_860         0                  0     1     0\n",
       "Train_1459        1                  0     0     0\n",
       "Train_1126        0                  0     1     0\n",
       "\n",
       "[1456 rows x 4 columns]"
      ]
     },
     "execution_count": 118,
     "metadata": {},
     "output_type": "execute_result"
    }
   ],
   "source": [
    "traindf"
   ]
  },
  {
   "cell_type": "code",
   "execution_count": 38,
   "id": "138bf304",
   "metadata": {},
   "outputs": [],
   "source": [
    "import shutil\n",
    "from shutil import copyfile\n",
    "\n",
    "# delete temp dir\n",
    "if os.path.exists(r'C:\\Users\\conno\\Downloads\\work\\1. Study(main objective)\\Artificial Intelligence\\4. Intellipaat AI course\\Modules\\3. AI(DEEP LEARNING)\\Assignments\\Live-class\\Assignment-6\\kaggle\\temp'):\n",
    "    shutil.rmtree(r'C:\\Users\\conno\\Downloads\\work\\1. Study(main objective)\\Artificial Intelligence\\4. Intellipaat AI course\\Modules\\3. AI(DEEP LEARNING)\\Assignments\\Live-class\\Assignment-6\\kaggle\\temp')\n",
    "\n",
    "os.mkdir(r'C:\\Users\\conno\\Downloads\\work\\1. Study(main objective)\\Artificial Intelligence\\4. Intellipaat AI course\\Modules\\3. AI(DEEP LEARNING)\\Assignments\\Live-class\\Assignment-6\\kaggle\\temp')\n",
    "\n",
    "# train directory\n",
    "os.mkdir(r'C:\\Users\\conno\\Downloads\\work\\1. Study(main objective)\\Artificial Intelligence\\4. Intellipaat AI course\\Modules\\3. AI(DEEP LEARNING)\\Assignments\\Live-class\\Assignment-6\\kaggle\\temp\\train')\n",
    "os.mkdir(r'C:\\Users\\conno\\Downloads\\work\\1. Study(main objective)\\Artificial Intelligence\\4. Intellipaat AI course\\Modules\\3. AI(DEEP LEARNING)\\Assignments\\Live-class\\Assignment-6\\kaggle\\temp\\train\\healthy')\n",
    "os.mkdir(r'C:\\Users\\conno\\Downloads\\work\\1. Study(main objective)\\Artificial Intelligence\\4. Intellipaat AI course\\Modules\\3. AI(DEEP LEARNING)\\Assignments\\Live-class\\Assignment-6\\kaggle\\temp\\train\\multiple_diseases')\n",
    "os.mkdir(r'C:\\Users\\conno\\Downloads\\work\\1. Study(main objective)\\Artificial Intelligence\\4. Intellipaat AI course\\Modules\\3. AI(DEEP LEARNING)\\Assignments\\Live-class\\Assignment-6\\kaggle\\temp\\train\\rust')\n",
    "os.mkdir(r'C:\\Users\\conno\\Downloads\\work\\1. Study(main objective)\\Artificial Intelligence\\4. Intellipaat AI course\\Modules\\3. AI(DEEP LEARNING)\\Assignments\\Live-class\\Assignment-6\\kaggle\\temp\\train\\scab')\n",
    "\n",
    "# validation directory\n",
    "os.mkdir(r'C:\\Users\\conno\\Downloads\\work\\1. Study(main objective)\\Artificial Intelligence\\4. Intellipaat AI course\\Modules\\3. AI(DEEP LEARNING)\\Assignments\\Live-class\\Assignment-6\\kaggle\\temp\\valid')\n",
    "os.mkdir(r'C:\\Users\\conno\\Downloads\\work\\1. Study(main objective)\\Artificial Intelligence\\4. Intellipaat AI course\\Modules\\3. AI(DEEP LEARNING)\\Assignments\\Live-class\\Assignment-6\\kaggle\\temp\\valid\\healthy')\n",
    "os.mkdir(r'C:\\Users\\conno\\Downloads\\work\\1. Study(main objective)\\Artificial Intelligence\\4. Intellipaat AI course\\Modules\\3. AI(DEEP LEARNING)\\Assignments\\Live-class\\Assignment-6\\kaggle\\temp\\valid\\multiple_diseases')\n",
    "os.mkdir(r'C:\\Users\\conno\\Downloads\\work\\1. Study(main objective)\\Artificial Intelligence\\4. Intellipaat AI course\\Modules\\3. AI(DEEP LEARNING)\\Assignments\\Live-class\\Assignment-6\\kaggle\\temp\\valid\\rust')\n",
    "os.mkdir(r'C:\\Users\\conno\\Downloads\\work\\1. Study(main objective)\\Artificial Intelligence\\4. Intellipaat AI course\\Modules\\3. AI(DEEP LEARNING)\\Assignments\\Live-class\\Assignment-6\\kaggle\\temp\\valid\\scab')"
   ]
  },
  {
   "cell_type": "code",
   "execution_count": 119,
   "id": "8df7aa40",
   "metadata": {},
   "outputs": [],
   "source": [
    "SOURCE = 'C:/Users/conno/Downloads/work/1. Study(main objective)/Artificial Intelligence/4. Intellipaat AI course\\Modules/3. AI(DEEP LEARNING)/Assignments/Live-class/Assignment-6/dataset/images/'\n",
    "\n",
    "TRAIN_DIR = r'C:\\Users\\conno\\Downloads\\work\\1. Study(main objective)\\Artificial Intelligence\\4. Intellipaat AI course\\Modules\\3. AI(DEEP LEARNING)\\Assignments\\Live-class\\Assignment-6\\kaggle\\temp\\train'\n",
    "\n",
    "for index, data in traindf.iterrows():\n",
    "    label = df.columns[np.argmax(data)]\n",
    "    filepath = os.path.join(SOURCE, index + \".jpg\") # Adding index to images\n",
    "    destination = os.path.join(TRAIN_DIR, label, index + \".jpg\") # filtering the images by type and adding to the destination folder \n",
    "    copyfile(filepath, destination)\n",
    "    \n",
    "for subdir in os.listdir(TRAIN_DIR): # using a for loop to iterate trough all the subdirectories and printing their respective lengths..\n",
    "    print(subdir, len(os.listdir(os.path.join(TRAIN_DIR, subdir))))"
   ]
  },
  {
   "cell_type": "code",
   "execution_count": 120,
   "id": "a7e1e698",
   "metadata": {},
   "outputs": [],
   "source": [
    "VALID_DIR = r'C:\\Users\\conno\\Downloads\\work\\1. Study(main objective)\\Artificial Intelligence\\4. Intellipaat AI course\\Modules\\3. AI(DEEP LEARNING)\\Assignments\\Live-class\\Assignment-6\\kaggle\\temp\\valid'\n",
    "\n",
    "# copy images to valid directory\n",
    "for index, data in testdf.iterrows():\n",
    "    label = df.columns[np.argmax(data)]\n",
    "    filepath = os.path.join(SOURCE, index + \".jpg\")\n",
    "    destination = os.path.join(VALID_DIR, label, index + \".jpg\")\n",
    "    copyfile(filepath, destination)\n",
    "    \n",
    "for subdir in os.listdir(VALID_DIR):\n",
    "    print(subdir, len(os.listdir(os.path.join(VALID_DIR, subdir))))"
   ]
  },
  {
   "cell_type": "code",
   "execution_count": null,
   "id": "bd485e43",
   "metadata": {},
   "outputs": [],
   "source": []
  },
  {
   "cell_type": "code",
   "execution_count": 43,
   "id": "5c1aa8ce",
   "metadata": {},
   "outputs": [],
   "source": []
  },
  {
   "cell_type": "code",
   "execution_count": 44,
   "id": "badc286a",
   "metadata": {},
   "outputs": [],
   "source": []
  },
  {
   "cell_type": "code",
   "execution_count": 45,
   "id": "523603c5",
   "metadata": {},
   "outputs": [],
   "source": [
    "#train_output = train_generator.next() # everytime this is called, it will produce a next step of images."
   ]
  },
  {
   "cell_type": "code",
   "execution_count": 46,
   "id": "4651820b",
   "metadata": {},
   "outputs": [],
   "source": [
    "# images = train_output[0]\n",
    "# labels = train_output[1]"
   ]
  },
  {
   "cell_type": "code",
   "execution_count": 47,
   "id": "8b0cb9a0",
   "metadata": {},
   "outputs": [],
   "source": [
    "# images.shape "
   ]
  },
  {
   "cell_type": "markdown",
   "id": "1e3c644c",
   "metadata": {},
   "source": [
    "### Prepairing the dataset..."
   ]
  },
  {
   "cell_type": "code",
   "execution_count": null,
   "id": "06f42fa1",
   "metadata": {},
   "outputs": [],
   "source": [
    "#from skimage.io import imread_collection\n",
    "#images = imread_collection(r\"C:\\Users\\conno\\Downloads\\work\\1. Study(main objective)\\Artificial Intelligence\\4. Intellipaat AI course\\Modules\\3. AI(DEEP LEARNING)\\Assignments\\Live-class\\Assignment-6\\kaggle\\temp\\train\\healthy\\*.JPG\", conserve_memory=True)"
   ]
  },
  {
   "cell_type": "code",
   "execution_count": 138,
   "id": "028d1fb0",
   "metadata": {},
   "outputs": [
    {
     "ename": "SyntaxError",
     "evalue": "EOL while scanning string literal (231162228.py, line 1)",
     "output_type": "error",
     "traceback": [
      "\u001b[1;36m  Input \u001b[1;32mIn [138]\u001b[1;36m\u001b[0m\n\u001b[1;33m    Train_dir = r'C:\\Users\\conno\\Downloads\\work\\1. Study(main objective)\\Artificial Intelligence\\4. Intellipaat AI course\\Modules\\3. AI(DEEP LEARNING)\\Assignments\\Live-class\\Assignment-6\\dataset\\images\\train\\'\u001b[0m\n\u001b[1;37m                                                                                                                                                                                                                 ^\u001b[0m\n\u001b[1;31mSyntaxError\u001b[0m\u001b[1;31m:\u001b[0m EOL while scanning string literal\n"
     ]
    }
   ],
   "source": [
    "Train_dir = r'C:\\Users\\conno\\Downloads\\work\\1. Study(main objective)\\Artificial Intelligence\\4. Intellipaat AI course\\Modules\\3. AI(DEEP LEARNING)\\Assignments\\Live-class\\Assignment-6\\dataset\\images\\train'"
   ]
  },
  {
   "cell_type": "code",
   "execution_count": null,
   "id": "76dcdd6d",
   "metadata": {},
   "outputs": [],
   "source": []
  },
  {
   "cell_type": "code",
   "execution_count": null,
   "id": "0a22cd47",
   "metadata": {},
   "outputs": [],
   "source": []
  },
  {
   "cell_type": "code",
   "execution_count": null,
   "id": "f2a6b7fd",
   "metadata": {},
   "outputs": [],
   "source": []
  },
  {
   "cell_type": "code",
   "execution_count": null,
   "id": "a27046e0",
   "metadata": {},
   "outputs": [],
   "source": []
  },
  {
   "cell_type": "markdown",
   "id": "872cc947",
   "metadata": {},
   "source": [
    "### Performing image Augmentation..."
   ]
  },
  {
   "cell_type": "code",
   "execution_count": null,
   "id": "379cf5d9",
   "metadata": {},
   "outputs": [],
   "source": [
    "training_datagen = ImageDataGenerator(rescale = 1./255,\n",
    "                                      rotation_range=40,\n",
    "                                      width_shift_range=0.2,\n",
    "                                      height_shift_range=0.2,\n",
    "                                      shear_range=0.2,\n",
    "                                      zoom_range=0.2,\n",
    "                                      horizontal_flip=True,\n",
    "                                      fill_mode='nearest')\n",
    "\n",
    "validation_datagen = ImageDataGenerator(rescale = 1./255)\n",
    "\n",
    "train_generator = training_datagen.flow_from_directory(TRAIN_DIR, target_size=(150,150), class_mode='categorical', batch_size=32)\n",
    "validation_generator = validation_datagen.flow_from_directory(VALID_DIR, target_size=(150,150), class_mode='categorical', batch_size=32)"
   ]
  },
  {
   "cell_type": "code",
   "execution_count": null,
   "id": "46f05314",
   "metadata": {},
   "outputs": [],
   "source": []
  },
  {
   "cell_type": "markdown",
   "id": "54ff698d",
   "metadata": {},
   "source": [
    "### Model-Building"
   ]
  },
  {
   "cell_type": "code",
   "execution_count": 28,
   "id": "913eb847",
   "metadata": {},
   "outputs": [
    {
     "name": "stdout",
     "output_type": "stream",
     "text": [
      "Model: \"sequential\"\n",
      "_________________________________________________________________\n",
      " Layer (type)                Output Shape              Param #   \n",
      "=================================================================\n",
      " conv2d (Conv2D)             (None, 148, 148, 64)      1792      \n",
      "                                                                 \n",
      " max_pooling2d (MaxPooling2D  (None, 74, 74, 64)       0         \n",
      " )                                                               \n",
      "                                                                 \n",
      " conv2d_1 (Conv2D)           (None, 72, 72, 64)        36928     \n",
      "                                                                 \n",
      " max_pooling2d_1 (MaxPooling  (None, 36, 36, 64)       0         \n",
      " 2D)                                                             \n",
      "                                                                 \n",
      " conv2d_2 (Conv2D)           (None, 34, 34, 128)       73856     \n",
      "                                                                 \n",
      " max_pooling2d_2 (MaxPooling  (None, 17, 17, 128)      0         \n",
      " 2D)                                                             \n",
      "                                                                 \n",
      " conv2d_3 (Conv2D)           (None, 15, 15, 128)       147584    \n",
      "                                                                 \n",
      " max_pooling2d_3 (MaxPooling  (None, 7, 7, 128)        0         \n",
      " 2D)                                                             \n",
      "                                                                 \n",
      " flatten (Flatten)           (None, 6272)              0         \n",
      "                                                                 \n",
      " dropout (Dropout)           (None, 6272)              0         \n",
      "                                                                 \n",
      " dense (Dense)               (None, 512)               3211776   \n",
      "                                                                 \n",
      " dense_1 (Dense)             (None, 4)                 2052      \n",
      "                                                                 \n",
      "=================================================================\n",
      "Total params: 3,473,988\n",
      "Trainable params: 3,473,988\n",
      "Non-trainable params: 0\n",
      "_________________________________________________________________\n"
     ]
    }
   ],
   "source": [
    "model = tf.keras.models.Sequential([\n",
    "    tf.keras.layers.Conv2D(64, (3,3), activation='relu', input_shape=(150, 150, 3)),\n",
    "    tf.keras.layers.MaxPooling2D(2, 2),\n",
    "    tf.keras.layers.Conv2D(64, (3,3), activation='relu'),\n",
    "    tf.keras.layers.MaxPooling2D(2,2),\n",
    "    tf.keras.layers.Conv2D(128, (3,3), activation='relu'),\n",
    "    tf.keras.layers.MaxPooling2D(2,2),\n",
    "    tf.keras.layers.Conv2D(128, (3,3), activation='relu'),\n",
    "    tf.keras.layers.MaxPooling2D(2,2),\n",
    "    tf.keras.layers.Flatten(),\n",
    "    tf.keras.layers.Dropout(0.5),\n",
    "    tf.keras.layers.Dense(512, activation='relu'),\n",
    "    tf.keras.layers.Dense(4, activation='softmax')\n",
    "])\n",
    "\n",
    "\n",
    "model.compile(loss = 'categorical_crossentropy', \n",
    "              optimizer = Adam(0.0001),\n",
    "              metrics=['accuracy'])\n",
    "\n",
    "model.summary()"
   ]
  },
  {
   "cell_type": "code",
   "execution_count": 1,
   "id": "4bffe72e",
   "metadata": {},
   "outputs": [],
   "source": [
    "STEP_SIZE_TRAIN=train_generator.n//train_generator.batch_size\n",
    "STEP_SIZE_VALID=valid_generator.n//valid_generator.batch_size\n",
    "\n",
    "history=model.fit(train_generator,\n",
    "                       steps_per_epoch = STEP_SIZE_TRAIN,  # say 319 images per epoch/ to complete an epoch and no of epochs is 5\n",
    "                      validation_data = valid_generator,\n",
    "                      epochs = 12,\n",
    "                    validation_steps= STEP_SIZE_VALID,\n",
    "                     callbacks=[tensorboard_callback])"
   ]
  },
  {
   "cell_type": "markdown",
   "id": "47f5952c",
   "metadata": {},
   "source": [
    "### Analyzing metrics"
   ]
  },
  {
   "cell_type": "code",
   "execution_count": null,
   "id": "9f335a9b",
   "metadata": {},
   "outputs": [],
   "source": [
    "\n",
    "\n",
    "train_loss = model.history.history['loss']\n",
    "val_loss = model.history.history['val_loss']\n",
    "train_accuracy = model.history.history['accuracy']\n",
    "validation_accuracy = model.history.history['val_accuracy']"
   ]
  },
  {
   "cell_type": "code",
   "execution_count": null,
   "id": "c6be67b0",
   "metadata": {},
   "outputs": [],
   "source": [
    "plt.plot(train_loss)\n",
    "plt.plot(val_loss)\n",
    "plt.xlabel(\"Epoch\")\n",
    "plt.ylabel(\"Loss\")\n",
    "plt.title(\"LOSS CURVE\")\n",
    "plt.legend(['Train', 'Validation'])\n",
    "plt.grid()\n",
    "plt.show()"
   ]
  },
  {
   "cell_type": "code",
   "execution_count": null,
   "id": "29753a43",
   "metadata": {},
   "outputs": [],
   "source": [
    "plt.plot(train_accuracy)\n",
    "plt.plot(validation_accuracy)\n",
    "plt.xlabel(\"Epoch\")\n",
    "plt.ylabel(\"Accuracy\")\n",
    "plt.title(\"ACCURACY CURVE\")\n",
    "plt.legend(['Train', 'Validation'])\n",
    "plt.grid()\n",
    "plt.show()"
   ]
  },
  {
   "cell_type": "code",
   "execution_count": null,
   "id": "09140573",
   "metadata": {},
   "outputs": [],
   "source": []
  },
  {
   "cell_type": "code",
   "execution_count": null,
   "id": "290a9106",
   "metadata": {},
   "outputs": [],
   "source": []
  },
  {
   "cell_type": "code",
   "execution_count": null,
   "id": "a97f629f",
   "metadata": {},
   "outputs": [],
   "source": []
  },
  {
   "cell_type": "markdown",
   "id": "098afdff",
   "metadata": {},
   "source": [
    "### References:\n",
    "\n",
    "https://github.com/mdbloice/Augmentor\n",
    "\n",
    "\n",
    "https://www.kaggle.com/code/geochatz/plant-pathology-classification-with-tensorflow/notebook"
   ]
  },
  {
   "cell_type": "code",
   "execution_count": null,
   "id": "de4037f7",
   "metadata": {},
   "outputs": [],
   "source": []
  },
  {
   "cell_type": "code",
   "execution_count": null,
   "id": "8cc09828",
   "metadata": {},
   "outputs": [],
   "source": []
  },
  {
   "cell_type": "code",
   "execution_count": null,
   "id": "20607b25",
   "metadata": {},
   "outputs": [],
   "source": []
  },
  {
   "cell_type": "code",
   "execution_count": null,
   "id": "56dc905a",
   "metadata": {},
   "outputs": [],
   "source": []
  }
 ],
 "metadata": {
  "kernelspec": {
   "display_name": "Python 3 (ipykernel)",
   "language": "python",
   "name": "python3"
  },
  "language_info": {
   "codemirror_mode": {
    "name": "ipython",
    "version": 3
   },
   "file_extension": ".py",
   "mimetype": "text/x-python",
   "name": "python",
   "nbconvert_exporter": "python",
   "pygments_lexer": "ipython3",
   "version": "3.9.12"
  }
 },
 "nbformat": 4,
 "nbformat_minor": 5
}
