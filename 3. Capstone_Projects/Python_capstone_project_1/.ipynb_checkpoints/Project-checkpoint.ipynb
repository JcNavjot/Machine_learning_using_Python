{
 "cells": [
  {
   "cell_type": "code",
   "execution_count": 1,
   "id": "e4f1c8f2",
   "metadata": {},
   "outputs": [],
   "source": [
    "#Hints:\n",
    "# First, use Pandas, zipfile, and BytesIO library to extract the data. Find out a way to extract only\n",
    "#files that consists useful data.\n",
    "# Hint: pd.read_csv(BytesIO(z.read(file_name)), encoding='utf-8', engine='python', header=None)\n",
    "# Then, visualize the number of male and female babies born in a particular year with the help of\n",
    "#pandas.DataFrame.plot, \n",
    "\n",
    "# Then Analyse baby names by sorting out all birth counts.\n",
    "# Then, analyse baby names by sorting out top 100 birth counts and group them by names to find\n",
    "# out popular baby names\n",
    "\n",
    "#We have to extract the dataset in the program, visualize the number of male and female babies born in a particular year, and find out popular baby names. \n"
   ]
  },
  {
   "cell_type": "code",
   "execution_count": 2,
   "id": "582cd3d9",
   "metadata": {},
   "outputs": [],
   "source": [
    "import pandas as pd\n",
    "import numpy as np\n",
    "import matplotlib.pyplot as plt\n",
    "import seaborn as sns\n",
    "from zipfile import ZipFile\n",
    "from io import BytesIO"
   ]
  },
  {
   "cell_type": "code",
   "execution_count": 3,
   "id": "cf8207f4",
   "metadata": {},
   "outputs": [],
   "source": [
    "# Create a ZipFile Object and extract only the file containing useful data\n",
    "with ZipFile('names.zip', 'r') as zipObj:\n",
    "   # Get a list of all archived file names from the zip\n",
    "   listOfFileNames = zipObj.namelist()\n",
    "   # Iterate over the file names\n",
    "   for fileName in listOfFileNames:\n",
    "            \n",
    "       # Check filename endswith csv\n",
    "        if fileName.endswith('.txt'):\n",
    "            #print(fileName)\n",
    "           # Extract a single file from zip\n",
    "            zipObj.extract(fileName)"
   ]
  },
  {
   "cell_type": "code",
   "execution_count": 4,
   "id": "329ab135",
   "metadata": {},
   "outputs": [],
   "source": [
    "zf = ZipFile(\"names.zip\", \"r\") #Here, we are loading provided zipfile into zf variable.\n",
    "df1 = pd.DataFrame(columns = ['Name', 'Gender', 'Births', 'Year']) #Here, we added column names as the original files didn't had it.\n",
    "for i in zf.infolist():\n",
    "    if(i.filename.endswith('txt')):\n",
    "        year = i.filename[3:7]\n",
    "        df = pd.read_csv(BytesIO(zf.read(i.filename)),names = ['Name','Gender', 'Births', 'Year'], encoding='utf-8', engine='python', header=None)\n",
    "        df['Year'] = int(year)\n",
    "        df1 = pd.concat([df1,df])"
   ]
  },
  {
   "cell_type": "code",
   "execution_count": 5,
   "id": "b20e3339",
   "metadata": {},
   "outputs": [
    {
     "data": {
      "text/html": [
       "<div>\n",
       "<style scoped>\n",
       "    .dataframe tbody tr th:only-of-type {\n",
       "        vertical-align: middle;\n",
       "    }\n",
       "\n",
       "    .dataframe tbody tr th {\n",
       "        vertical-align: top;\n",
       "    }\n",
       "\n",
       "    .dataframe thead th {\n",
       "        text-align: right;\n",
       "    }\n",
       "</style>\n",
       "<table border=\"1\" class=\"dataframe\">\n",
       "  <thead>\n",
       "    <tr style=\"text-align: right;\">\n",
       "      <th></th>\n",
       "      <th>Name</th>\n",
       "      <th>Gender</th>\n",
       "      <th>Births</th>\n",
       "      <th>Year</th>\n",
       "    </tr>\n",
       "  </thead>\n",
       "  <tbody>\n",
       "    <tr>\n",
       "      <th>0</th>\n",
       "      <td>Mary</td>\n",
       "      <td>F</td>\n",
       "      <td>7065</td>\n",
       "      <td>1880</td>\n",
       "    </tr>\n",
       "    <tr>\n",
       "      <th>1</th>\n",
       "      <td>Anna</td>\n",
       "      <td>F</td>\n",
       "      <td>2604</td>\n",
       "      <td>1880</td>\n",
       "    </tr>\n",
       "    <tr>\n",
       "      <th>2</th>\n",
       "      <td>Emma</td>\n",
       "      <td>F</td>\n",
       "      <td>2003</td>\n",
       "      <td>1880</td>\n",
       "    </tr>\n",
       "    <tr>\n",
       "      <th>3</th>\n",
       "      <td>Elizabeth</td>\n",
       "      <td>F</td>\n",
       "      <td>1939</td>\n",
       "      <td>1880</td>\n",
       "    </tr>\n",
       "    <tr>\n",
       "      <th>4</th>\n",
       "      <td>Minnie</td>\n",
       "      <td>F</td>\n",
       "      <td>1746</td>\n",
       "      <td>1880</td>\n",
       "    </tr>\n",
       "    <tr>\n",
       "      <th>...</th>\n",
       "      <td>...</td>\n",
       "      <td>...</td>\n",
       "      <td>...</td>\n",
       "      <td>...</td>\n",
       "    </tr>\n",
       "    <tr>\n",
       "      <th>31266</th>\n",
       "      <td>Zykell</td>\n",
       "      <td>M</td>\n",
       "      <td>5</td>\n",
       "      <td>2020</td>\n",
       "    </tr>\n",
       "    <tr>\n",
       "      <th>31267</th>\n",
       "      <td>Zylus</td>\n",
       "      <td>M</td>\n",
       "      <td>5</td>\n",
       "      <td>2020</td>\n",
       "    </tr>\n",
       "    <tr>\n",
       "      <th>31268</th>\n",
       "      <td>Zymari</td>\n",
       "      <td>M</td>\n",
       "      <td>5</td>\n",
       "      <td>2020</td>\n",
       "    </tr>\n",
       "    <tr>\n",
       "      <th>31269</th>\n",
       "      <td>Zyn</td>\n",
       "      <td>M</td>\n",
       "      <td>5</td>\n",
       "      <td>2020</td>\n",
       "    </tr>\n",
       "    <tr>\n",
       "      <th>31270</th>\n",
       "      <td>Zyran</td>\n",
       "      <td>M</td>\n",
       "      <td>5</td>\n",
       "      <td>2020</td>\n",
       "    </tr>\n",
       "  </tbody>\n",
       "</table>\n",
       "<p>2020863 rows × 4 columns</p>\n",
       "</div>"
      ],
      "text/plain": [
       "            Name Gender Births  Year\n",
       "0           Mary      F   7065  1880\n",
       "1           Anna      F   2604  1880\n",
       "2           Emma      F   2003  1880\n",
       "3      Elizabeth      F   1939  1880\n",
       "4         Minnie      F   1746  1880\n",
       "...          ...    ...    ...   ...\n",
       "31266     Zykell      M      5  2020\n",
       "31267      Zylus      M      5  2020\n",
       "31268     Zymari      M      5  2020\n",
       "31269        Zyn      M      5  2020\n",
       "31270      Zyran      M      5  2020\n",
       "\n",
       "[2020863 rows x 4 columns]"
      ]
     },
     "execution_count": 5,
     "metadata": {},
     "output_type": "execute_result"
    }
   ],
   "source": [
    "df1"
   ]
  },
  {
   "cell_type": "code",
   "execution_count": 6,
   "id": "3cce9249",
   "metadata": {},
   "outputs": [],
   "source": [
    "## Filtering main dataframe to select values in the year 2010\n",
    "\n",
    "baby_names = df1[df1['Year'] == 2010]"
   ]
  },
  {
   "cell_type": "code",
   "execution_count": 7,
   "id": "3fd53d6a",
   "metadata": {},
   "outputs": [
    {
     "data": {
      "text/html": [
       "<div>\n",
       "<style scoped>\n",
       "    .dataframe tbody tr th:only-of-type {\n",
       "        vertical-align: middle;\n",
       "    }\n",
       "\n",
       "    .dataframe tbody tr th {\n",
       "        vertical-align: top;\n",
       "    }\n",
       "\n",
       "    .dataframe thead th {\n",
       "        text-align: right;\n",
       "    }\n",
       "</style>\n",
       "<table border=\"1\" class=\"dataframe\">\n",
       "  <thead>\n",
       "    <tr style=\"text-align: right;\">\n",
       "      <th></th>\n",
       "      <th>Name</th>\n",
       "      <th>Gender</th>\n",
       "      <th>Births</th>\n",
       "      <th>Year</th>\n",
       "    </tr>\n",
       "  </thead>\n",
       "  <tbody>\n",
       "    <tr>\n",
       "      <th>0</th>\n",
       "      <td>Isabella</td>\n",
       "      <td>F</td>\n",
       "      <td>22924</td>\n",
       "      <td>2010</td>\n",
       "    </tr>\n",
       "    <tr>\n",
       "      <th>1</th>\n",
       "      <td>Sophia</td>\n",
       "      <td>F</td>\n",
       "      <td>20646</td>\n",
       "      <td>2010</td>\n",
       "    </tr>\n",
       "    <tr>\n",
       "      <th>2</th>\n",
       "      <td>Emma</td>\n",
       "      <td>F</td>\n",
       "      <td>17351</td>\n",
       "      <td>2010</td>\n",
       "    </tr>\n",
       "    <tr>\n",
       "      <th>3</th>\n",
       "      <td>Olivia</td>\n",
       "      <td>F</td>\n",
       "      <td>17029</td>\n",
       "      <td>2010</td>\n",
       "    </tr>\n",
       "    <tr>\n",
       "      <th>4</th>\n",
       "      <td>Ava</td>\n",
       "      <td>F</td>\n",
       "      <td>15436</td>\n",
       "      <td>2010</td>\n",
       "    </tr>\n",
       "  </tbody>\n",
       "</table>\n",
       "</div>"
      ],
      "text/plain": [
       "       Name Gender Births  Year\n",
       "0  Isabella      F  22924  2010\n",
       "1    Sophia      F  20646  2010\n",
       "2      Emma      F  17351  2010\n",
       "3    Olivia      F  17029  2010\n",
       "4       Ava      F  15436  2010"
      ]
     },
     "execution_count": 7,
     "metadata": {},
     "output_type": "execute_result"
    }
   ],
   "source": [
    "baby_names.head()"
   ]
  },
  {
   "cell_type": "code",
   "execution_count": 8,
   "id": "22ae7d42",
   "metadata": {},
   "outputs": [
    {
     "data": {
      "text/plain": [
       "F    19820\n",
       "M    14265\n",
       "Name: Gender, dtype: int64"
      ]
     },
     "execution_count": 8,
     "metadata": {},
     "output_type": "execute_result"
    }
   ],
   "source": [
    "baby_names['Gender'].value_counts()"
   ]
  },
  {
   "cell_type": "code",
   "execution_count": 9,
   "id": "ba8dc14b",
   "metadata": {},
   "outputs": [],
   "source": [
    "# So, in the given year 2010, number of Females are more than males"
   ]
  },
  {
   "cell_type": "code",
   "execution_count": 10,
   "id": "e525a4d7",
   "metadata": {},
   "outputs": [],
   "source": [
    "##Visualizing the data"
   ]
  },
  {
   "cell_type": "code",
   "execution_count": 11,
   "id": "df2154a3",
   "metadata": {},
   "outputs": [
    {
     "data": {
      "text/plain": [
       "<AxesSubplot:xlabel='Gender', ylabel='count'>"
      ]
     },
     "execution_count": 11,
     "metadata": {},
     "output_type": "execute_result"
    },
    {
     "data": {
      "image/png": "[encoded data removed]",
      "text/plain": [
       "<Figure size 432x288 with 1 Axes>"
      ]
     },
     "metadata": {
      "needs_background": "light"
     },
     "output_type": "display_data"
    }
   ],
   "source": [
    "sns.countplot(x = baby_names['Gender'] , data = baby_names)"
   ]
  },
  {
   "cell_type": "code",
   "execution_count": 12,
   "id": "74da40e1",
   "metadata": {},
   "outputs": [
    {
     "data": {
      "text/plain": [
       "0.5814874578260232"
      ]
     },
     "execution_count": 12,
     "metadata": {},
     "output_type": "execute_result"
    }
   ],
   "source": [
    "(baby_names.Gender == 'F').mean()"
   ]
  },
  {
   "cell_type": "code",
   "execution_count": 13,
   "id": "2816dc43",
   "metadata": {},
   "outputs": [
    {
     "data": {
      "text/html": [
       "<div>\n",
       "<style scoped>\n",
       "    .dataframe tbody tr th:only-of-type {\n",
       "        vertical-align: middle;\n",
       "    }\n",
       "\n",
       "    .dataframe tbody tr th {\n",
       "        vertical-align: top;\n",
       "    }\n",
       "\n",
       "    .dataframe thead th {\n",
       "        text-align: right;\n",
       "    }\n",
       "</style>\n",
       "<table border=\"1\" class=\"dataframe\">\n",
       "  <thead>\n",
       "    <tr style=\"text-align: right;\">\n",
       "      <th></th>\n",
       "      <th>Gender</th>\n",
       "      <th>Births</th>\n",
       "    </tr>\n",
       "  </thead>\n",
       "  <tbody>\n",
       "    <tr>\n",
       "      <th>0</th>\n",
       "      <td>F</td>\n",
       "      <td>1775986</td>\n",
       "    </tr>\n",
       "    <tr>\n",
       "      <th>1</th>\n",
       "      <td>M</td>\n",
       "      <td>1917177</td>\n",
       "    </tr>\n",
       "  </tbody>\n",
       "</table>\n",
       "</div>"
      ],
      "text/plain": [
       "  Gender   Births\n",
       "0      F  1775986\n",
       "1      M  1917177"
      ]
     },
     "execution_count": 13,
     "metadata": {},
     "output_type": "execute_result"
    }
   ],
   "source": [
    "#Number of females and males births in 2010\n",
    "\n",
    "baby_names.groupby('Gender').agg({'Births': 'sum'}).reset_index()\n"
   ]
  },
  {
   "cell_type": "code",
   "execution_count": 14,
   "id": "693e5f3b",
   "metadata": {},
   "outputs": [
    {
     "data": {
      "text/html": [
       "<div>\n",
       "<style scoped>\n",
       "    .dataframe tbody tr th:only-of-type {\n",
       "        vertical-align: middle;\n",
       "    }\n",
       "\n",
       "    .dataframe tbody tr th {\n",
       "        vertical-align: top;\n",
       "    }\n",
       "\n",
       "    .dataframe thead th {\n",
       "        text-align: right;\n",
       "    }\n",
       "</style>\n",
       "<table border=\"1\" class=\"dataframe\">\n",
       "  <thead>\n",
       "    <tr style=\"text-align: right;\">\n",
       "      <th></th>\n",
       "      <th>Births</th>\n",
       "    </tr>\n",
       "    <tr>\n",
       "      <th>Gender</th>\n",
       "      <th></th>\n",
       "    </tr>\n",
       "  </thead>\n",
       "  <tbody>\n",
       "    <tr>\n",
       "      <th>F</th>\n",
       "      <td>0.480885</td>\n",
       "    </tr>\n",
       "    <tr>\n",
       "      <th>M</th>\n",
       "      <td>0.519115</td>\n",
       "    </tr>\n",
       "  </tbody>\n",
       "</table>\n",
       "</div>"
      ],
      "text/plain": [
       "          Births\n",
       "Gender          \n",
       "F       0.480885\n",
       "M       0.519115"
      ]
     },
     "execution_count": 14,
     "metadata": {},
     "output_type": "execute_result"
    }
   ],
   "source": [
    "#Mean of females and males births\n",
    "\n",
    "baby_names.groupby('Gender').agg({'Births': 'sum'}) / baby_names.Births.sum()"
   ]
  },
  {
   "cell_type": "code",
   "execution_count": 15,
   "id": "29413cf4",
   "metadata": {},
   "outputs": [
    {
     "data": {
      "text/plain": [
       "<pandas.core.groupby.generic.DataFrameGroupBy object at 0x000002D4013A1490>"
      ]
     },
     "execution_count": 15,
     "metadata": {},
     "output_type": "execute_result"
    }
   ],
   "source": [
    "names = baby_names.groupby(\"Name\")\n",
    "names\n"
   ]
  },
  {
   "cell_type": "code",
   "execution_count": 16,
   "id": "4c17b592",
   "metadata": {},
   "outputs": [],
   "source": [
    "##Sorting baby names by count to find most popular baby names"
   ]
  },
  {
   "cell_type": "code",
   "execution_count": 17,
   "id": "131854a6",
   "metadata": {},
   "outputs": [
    {
     "data": {
      "text/plain": [
       "Name\n",
       "Isabella    22954\n",
       "Jacob       22168\n",
       "Sophia      20672\n",
       "Jayden      18652\n",
       "Ethan       18025\n",
       "            ...  \n",
       "Sevaeh          5\n",
       "Ja              5\n",
       "Setara          5\n",
       "Jaafar          5\n",
       "Zzyzx           5\n",
       "Name: Births, Length: 31639, dtype: object"
      ]
     },
     "execution_count": 17,
     "metadata": {},
     "output_type": "execute_result"
    }
   ],
   "source": [
    "names.Births.sum().sort_values(ascending = False)"
   ]
  },
  {
   "cell_type": "code",
   "execution_count": 18,
   "id": "b5227ea3",
   "metadata": {},
   "outputs": [],
   "source": [
    "## So, name Isabella has the highest number of occurences."
   ]
  },
  {
   "cell_type": "code",
   "execution_count": 20,
   "id": "4b891906",
   "metadata": {},
   "outputs": [
    {
     "name": "stdout",
     "output_type": "stream",
     "text": [
      "(31639, 3)\n"
     ]
    },
    {
     "data": {
      "text/html": [
       "<div>\n",
       "<style scoped>\n",
       "    .dataframe tbody tr th:only-of-type {\n",
       "        vertical-align: middle;\n",
       "    }\n",
       "\n",
       "    .dataframe tbody tr th {\n",
       "        vertical-align: top;\n",
       "    }\n",
       "\n",
       "    .dataframe thead th {\n",
       "        text-align: right;\n",
       "    }\n",
       "</style>\n",
       "<table border=\"1\" class=\"dataframe\">\n",
       "  <thead>\n",
       "    <tr style=\"text-align: right;\">\n",
       "      <th></th>\n",
       "      <th>Gender</th>\n",
       "      <th>Births</th>\n",
       "      <th>Year</th>\n",
       "    </tr>\n",
       "    <tr>\n",
       "      <th>Name</th>\n",
       "      <th></th>\n",
       "      <th></th>\n",
       "      <th></th>\n",
       "    </tr>\n",
       "  </thead>\n",
       "  <tbody>\n",
       "    <tr>\n",
       "      <th>Isabella</th>\n",
       "      <td>FM</td>\n",
       "      <td>22954</td>\n",
       "      <td>4020</td>\n",
       "    </tr>\n",
       "    <tr>\n",
       "      <th>Jacob</th>\n",
       "      <td>FM</td>\n",
       "      <td>22168</td>\n",
       "      <td>4020</td>\n",
       "    </tr>\n",
       "    <tr>\n",
       "      <th>Sophia</th>\n",
       "      <td>FM</td>\n",
       "      <td>20672</td>\n",
       "      <td>4020</td>\n",
       "    </tr>\n",
       "    <tr>\n",
       "      <th>Jayden</th>\n",
       "      <td>FM</td>\n",
       "      <td>18652</td>\n",
       "      <td>4020</td>\n",
       "    </tr>\n",
       "    <tr>\n",
       "      <th>Ethan</th>\n",
       "      <td>FM</td>\n",
       "      <td>18025</td>\n",
       "      <td>4020</td>\n",
       "    </tr>\n",
       "    <tr>\n",
       "      <th>...</th>\n",
       "      <td>...</td>\n",
       "      <td>...</td>\n",
       "      <td>...</td>\n",
       "    </tr>\n",
       "    <tr>\n",
       "      <th>Sebastian</th>\n",
       "      <td>FM</td>\n",
       "      <td>6367</td>\n",
       "      <td>4020</td>\n",
       "    </tr>\n",
       "    <tr>\n",
       "      <th>Ashley</th>\n",
       "      <td>FM</td>\n",
       "      <td>6345</td>\n",
       "      <td>4020</td>\n",
       "    </tr>\n",
       "    <tr>\n",
       "      <th>Anna</th>\n",
       "      <td>FM</td>\n",
       "      <td>6343</td>\n",
       "      <td>4020</td>\n",
       "    </tr>\n",
       "    <tr>\n",
       "      <th>Sarah</th>\n",
       "      <td>FM</td>\n",
       "      <td>6342</td>\n",
       "      <td>4020</td>\n",
       "    </tr>\n",
       "    <tr>\n",
       "      <th>Sofia</th>\n",
       "      <td>FM</td>\n",
       "      <td>6334</td>\n",
       "      <td>4020</td>\n",
       "    </tr>\n",
       "  </tbody>\n",
       "</table>\n",
       "<p>100 rows × 3 columns</p>\n",
       "</div>"
      ],
      "text/plain": [
       "          Gender  Births  Year\n",
       "Name                          \n",
       "Isabella      FM   22954  4020\n",
       "Jacob         FM   22168  4020\n",
       "Sophia        FM   20672  4020\n",
       "Jayden        FM   18652  4020\n",
       "Ethan         FM   18025  4020\n",
       "...          ...     ...   ...\n",
       "Sebastian     FM    6367  4020\n",
       "Ashley        FM    6345  4020\n",
       "Anna          FM    6343  4020\n",
       "Sarah         FM    6342  4020\n",
       "Sofia         FM    6334  4020\n",
       "\n",
       "[100 rows x 3 columns]"
      ]
     },
     "execution_count": 20,
     "metadata": {},
     "output_type": "execute_result"
    }
   ],
   "source": [
    "# group the data\n",
    "names = baby_names.groupby(\"Name\").sum()\n",
    "\n",
    "# print the first 5 observations\n",
    "names.head()\n",
    "\n",
    "# print the size of the dataset\n",
    "print(names.shape)\n",
    "\n",
    "# sort it from the biggest value to the smallest one\n",
    "names.sort_values(\"Births\", ascending = 0).head(100)"
   ]
  },
  {
   "cell_type": "code",
   "execution_count": null,
   "id": "a4b99171",
   "metadata": {},
   "outputs": [],
   "source": [
    "#The above one is an alternate method to check the popular baby names"
   ]
  },
  {
   "cell_type": "code",
   "execution_count": 21,
   "id": "e3275418",
   "metadata": {},
   "outputs": [
    {
     "data": {
      "text/plain": [
       "31639"
      ]
     },
     "execution_count": 21,
     "metadata": {},
     "output_type": "execute_result"
    }
   ],
   "source": [
    "len(names) #Total number of unique names in the dataset"
   ]
  },
  {
   "cell_type": "code",
   "execution_count": 22,
   "id": "2c9ed15f",
   "metadata": {},
   "outputs": [
    {
     "data": {
      "text/plain": [
       "'Isabella'"
      ]
     },
     "execution_count": 22,
     "metadata": {},
     "output_type": "execute_result"
    }
   ],
   "source": [
    "#\n",
    "names.Births.idxmax()\n"
   ]
  },
  {
   "cell_type": "code",
   "execution_count": 23,
   "id": "1d221705",
   "metadata": {},
   "outputs": [],
   "source": [
    "#Name Isabella has the highest number of occurences or is the most popular"
   ]
  },
  {
   "cell_type": "code",
   "execution_count": 24,
   "id": "34dc1b09",
   "metadata": {},
   "outputs": [
    {
     "data": {
      "text/html": [
       "<div>\n",
       "<style scoped>\n",
       "    .dataframe tbody tr th:only-of-type {\n",
       "        vertical-align: middle;\n",
       "    }\n",
       "\n",
       "    .dataframe tbody tr th {\n",
       "        vertical-align: top;\n",
       "    }\n",
       "\n",
       "    .dataframe thead th {\n",
       "        text-align: right;\n",
       "    }\n",
       "</style>\n",
       "<table border=\"1\" class=\"dataframe\">\n",
       "  <thead>\n",
       "    <tr style=\"text-align: right;\">\n",
       "      <th></th>\n",
       "      <th>Births</th>\n",
       "      <th>Year</th>\n",
       "    </tr>\n",
       "  </thead>\n",
       "  <tbody>\n",
       "    <tr>\n",
       "      <th>count</th>\n",
       "      <td>31639.000000</td>\n",
       "      <td>31639.000000</td>\n",
       "    </tr>\n",
       "    <tr>\n",
       "      <th>mean</th>\n",
       "      <td>116.728184</td>\n",
       "      <td>2165.392395</td>\n",
       "    </tr>\n",
       "    <tr>\n",
       "      <th>std</th>\n",
       "      <td>734.293880</td>\n",
       "      <td>536.843578</td>\n",
       "    </tr>\n",
       "    <tr>\n",
       "      <th>min</th>\n",
       "      <td>5.000000</td>\n",
       "      <td>2010.000000</td>\n",
       "    </tr>\n",
       "    <tr>\n",
       "      <th>25%</th>\n",
       "      <td>7.000000</td>\n",
       "      <td>2010.000000</td>\n",
       "    </tr>\n",
       "    <tr>\n",
       "      <th>50%</th>\n",
       "      <td>12.000000</td>\n",
       "      <td>2010.000000</td>\n",
       "    </tr>\n",
       "    <tr>\n",
       "      <th>75%</th>\n",
       "      <td>31.000000</td>\n",
       "      <td>2010.000000</td>\n",
       "    </tr>\n",
       "    <tr>\n",
       "      <th>max</th>\n",
       "      <td>22954.000000</td>\n",
       "      <td>4020.000000</td>\n",
       "    </tr>\n",
       "  </tbody>\n",
       "</table>\n",
       "</div>"
      ],
      "text/plain": [
       "             Births          Year\n",
       "count  31639.000000  31639.000000\n",
       "mean     116.728184   2165.392395\n",
       "std      734.293880    536.843578\n",
       "min        5.000000   2010.000000\n",
       "25%        7.000000   2010.000000\n",
       "50%       12.000000   2010.000000\n",
       "75%       31.000000   2010.000000\n",
       "max    22954.000000   4020.000000"
      ]
     },
     "execution_count": 24,
     "metadata": {},
     "output_type": "execute_result"
    }
   ],
   "source": [
    "names.describe()"
   ]
  },
  {
   "cell_type": "code",
   "execution_count": null,
   "id": "97f2064a",
   "metadata": {},
   "outputs": [],
   "source": []
  }
 ],
 "metadata": {
  "kernelspec": {
   "display_name": "Python 3 (ipykernel)",
   "language": "python",
   "name": "python3"
  },
  "language_info": {
   "codemirror_mode": {
    "name": "ipython",
    "version": 3
   },
   "file_extension": ".py",
   "mimetype": "text/x-python",
   "name": "python",
   "nbconvert_exporter": "python",
   "pygments_lexer": "ipython3",
   "version": "3.9.12"
  }
 },
 "nbformat": 4,
 "nbformat_minor": 5
}
