{
 "cells": [
  {
   "cell_type": "code",
   "execution_count": 1,
   "metadata": {},
   "outputs": [],
   "source": [
    "#Hints:\n",
    "# First, use Pandas, zipfile, and BytesIO library to extract the data. Find out a way to extract only\n",
    "#files that consists useful data.\n",
    "# Hint: pd.read_csv(BytesIO(z.read(file_name)), encoding='utf-8', engine='python', header=None)\n",
    "# Then, visualize the number of male and female babies born in a particular year with the help of\n",
    "#pandas.DataFrame.plot, then Analyse baby names by sorting out all birth counts.\n",
    "# Then, analyse baby names by sorting out top 100 birth counts and group them by names to find\n",
    "#out popular baby names"
   ]
  },
  {
   "cell_type": "code",
   "execution_count": null,
   "metadata": {},
   "outputs": [],
   "source": [
    " #we have to extract the dataset in the program, visualize the number of male and female babies born in a particular year, and find out popular baby names"
   ]
  },
  {
   "cell_type": "code",
   "execution_count": 37,
   "metadata": {},
   "outputs": [],
   "source": [
    "import pandas as pd\n",
    "import numpy as np\n",
    "import matplotlib.pyplot as plt\n",
    "import seaborn as sns\n",
    "from zipfile import ZipFile\n",
    "from io import BytesIO"
   ]
  },
  {
   "cell_type": "code",
   "execution_count": 7,
   "metadata": {},
   "outputs": [],
   "source": [
    "#z = ZipFile('names.zip').extractall('.')"
   ]
  },
  {
   "cell_type": "code",
   "execution_count": 10,
   "metadata": {},
   "outputs": [],
   "source": [
    "#with zipfile.ZipFile(\"names.zip\",\"r\") as zip_ref:\n",
    "#   z = zip_ref.extractall(\"targetdir\")"
   ]
  },
  {
   "cell_type": "code",
   "execution_count": 38,
   "metadata": {},
   "outputs": [],
   "source": [
    "#with ZipFile('names.zip', 'r') as zipObj:\n",
    "#   # Extract all the contents of zip file in current directory\n",
    "#   zipObj.extractall(path=None, members=['NationalReadMe.pdf'], pwd=None)"
   ]
  },
  {
   "cell_type": "code",
   "execution_count": 55,
   "metadata": {},
   "outputs": [],
   "source": [
    "# Create a ZipFile Object and extract only the file containing useful data\n",
    "with ZipFile('names.zip', 'r') as zipObj:\n",
    "   # Get a list of all archived file names from the zip\n",
    "   listOfFileNames = zipObj.namelist()\n",
    "   # Iterate over the file names\n",
    "   for fileName in listOfFileNames:\n",
    "            \n",
    "       # Check filename endswith csv\n",
    "        if fileName.endswith('.txt'):\n",
    "            #print(fileName)\n",
    "           # Extract a single file from zip\n",
    "            zipObj.extract(fileName)"
   ]
  },
  {
   "cell_type": "code",
   "execution_count": null,
   "metadata": {},
   "outputs": [],
   "source": []
  },
  {
   "cell_type": "code",
   "execution_count": 39,
   "metadata": {},
   "outputs": [],
   "source": [
    "#years = []\n",
    "\n",
    "#for year in range ( 1880, 2021):\n",
    "#    years.append(pd.read_csv(f'yob{year}.txt', names = ['Name', 'Sex', 'ID']))\n",
    "#    years[-1]['Year'] = year\n",
    "    "
   ]
  },
  {
   "cell_type": "code",
   "execution_count": 47,
   "metadata": {},
   "outputs": [],
   "source": [
    "#df = pd.read_csv(BytesIO(z.read('names')), encoding='utf-8', engine='python', header=None)"
   ]
  },
  {
   "cell_type": "code",
   "execution_count": null,
   "metadata": {},
   "outputs": [],
   "source": []
  },
  {
   "cell_type": "code",
   "execution_count": 56,
   "metadata": {},
   "outputs": [],
   "source": [
    "zf = ZipFile(\"names.zip\", \"r\") #Here, we are loading provided zipfile into zf variable.\n",
    "df1 = pd.DataFrame(columns = ['Name', 'Gender', 'Births', 'Year']) #Here, we added column names as the original files didn't had it.\n",
    "for i in zf.infolist():\n",
    "    if(i.filename.endswith('txt')):\n",
    "        year = i.filename[3:7]\n",
    "        df = pd.read_csv(BytesIO(zf.read(i.filename)),names = ['Name','Gender', 'Births', 'Year'], encoding='utf-8', engine='python', header=None)\n",
    "        df['Year'] = int(year)\n",
    "        df1 = pd.concat([df1,df])\n",
    "#(code is given by intellipaat)"
   ]
  },
  {
   "cell_type": "code",
   "execution_count": 51,
   "metadata": {},
   "outputs": [
    {
     "data": {
      "text/html": [
       "<div>\n",
       "<style scoped>\n",
       "    .dataframe tbody tr th:only-of-type {\n",
       "        vertical-align: middle;\n",
       "    }\n",
       "\n",
       "    .dataframe tbody tr th {\n",
       "        vertical-align: top;\n",
       "    }\n",
       "\n",
       "    .dataframe thead th {\n",
       "        text-align: right;\n",
       "    }\n",
       "</style>\n",
       "<table border=\"1\" class=\"dataframe\">\n",
       "  <thead>\n",
       "    <tr style=\"text-align: right;\">\n",
       "      <th></th>\n",
       "      <th>Name</th>\n",
       "      <th>Gender</th>\n",
       "      <th>Births</th>\n",
       "      <th>Year</th>\n",
       "    </tr>\n",
       "  </thead>\n",
       "  <tbody>\n",
       "    <tr>\n",
       "      <th>0</th>\n",
       "      <td>Mary</td>\n",
       "      <td>F</td>\n",
       "      <td>7065</td>\n",
       "      <td>1880</td>\n",
       "    </tr>\n",
       "    <tr>\n",
       "      <th>1</th>\n",
       "      <td>Anna</td>\n",
       "      <td>F</td>\n",
       "      <td>2604</td>\n",
       "      <td>1880</td>\n",
       "    </tr>\n",
       "    <tr>\n",
       "      <th>2</th>\n",
       "      <td>Emma</td>\n",
       "      <td>F</td>\n",
       "      <td>2003</td>\n",
       "      <td>1880</td>\n",
       "    </tr>\n",
       "    <tr>\n",
       "      <th>3</th>\n",
       "      <td>Elizabeth</td>\n",
       "      <td>F</td>\n",
       "      <td>1939</td>\n",
       "      <td>1880</td>\n",
       "    </tr>\n",
       "    <tr>\n",
       "      <th>4</th>\n",
       "      <td>Minnie</td>\n",
       "      <td>F</td>\n",
       "      <td>1746</td>\n",
       "      <td>1880</td>\n",
       "    </tr>\n",
       "    <tr>\n",
       "      <th>...</th>\n",
       "      <td>...</td>\n",
       "      <td>...</td>\n",
       "      <td>...</td>\n",
       "      <td>...</td>\n",
       "    </tr>\n",
       "    <tr>\n",
       "      <th>31266</th>\n",
       "      <td>Zykell</td>\n",
       "      <td>M</td>\n",
       "      <td>5</td>\n",
       "      <td>2020</td>\n",
       "    </tr>\n",
       "    <tr>\n",
       "      <th>31267</th>\n",
       "      <td>Zylus</td>\n",
       "      <td>M</td>\n",
       "      <td>5</td>\n",
       "      <td>2020</td>\n",
       "    </tr>\n",
       "    <tr>\n",
       "      <th>31268</th>\n",
       "      <td>Zymari</td>\n",
       "      <td>M</td>\n",
       "      <td>5</td>\n",
       "      <td>2020</td>\n",
       "    </tr>\n",
       "    <tr>\n",
       "      <th>31269</th>\n",
       "      <td>Zyn</td>\n",
       "      <td>M</td>\n",
       "      <td>5</td>\n",
       "      <td>2020</td>\n",
       "    </tr>\n",
       "    <tr>\n",
       "      <th>31270</th>\n",
       "      <td>Zyran</td>\n",
       "      <td>M</td>\n",
       "      <td>5</td>\n",
       "      <td>2020</td>\n",
       "    </tr>\n",
       "  </tbody>\n",
       "</table>\n",
       "<p>2020863 rows × 4 columns</p>\n",
       "</div>"
      ],
      "text/plain": [
       "            Name Gender Births  Year\n",
       "0           Mary      F   7065  1880\n",
       "1           Anna      F   2604  1880\n",
       "2           Emma      F   2003  1880\n",
       "3      Elizabeth      F   1939  1880\n",
       "4         Minnie      F   1746  1880\n",
       "...          ...    ...    ...   ...\n",
       "31266     Zykell      M      5  2020\n",
       "31267      Zylus      M      5  2020\n",
       "31268     Zymari      M      5  2020\n",
       "31269        Zyn      M      5  2020\n",
       "31270      Zyran      M      5  2020\n",
       "\n",
       "[2020863 rows x 4 columns]"
      ]
     },
     "execution_count": 51,
     "metadata": {},
     "output_type": "execute_result"
    }
   ],
   "source": [
    "df1"
   ]
  },
  {
   "cell_type": "code",
   "execution_count": 68,
   "metadata": {},
   "outputs": [],
   "source": []
  },
  {
   "cell_type": "code",
   "execution_count": null,
   "metadata": {},
   "outputs": [],
   "source": []
  },
  {
   "cell_type": "code",
   "execution_count": null,
   "metadata": {},
   "outputs": [],
   "source": []
  },
  {
   "cell_type": "code",
   "execution_count": null,
   "metadata": {},
   "outputs": [],
   "source": []
  },
  {
   "cell_type": "code",
   "execution_count": null,
   "metadata": {},
   "outputs": [],
   "source": []
  },
  {
   "cell_type": "code",
   "execution_count": null,
   "metadata": {},
   "outputs": [],
   "source": []
  },
  {
   "cell_type": "code",
   "execution_count": null,
   "metadata": {},
   "outputs": [],
   "source": []
  }
 ],
 "metadata": {
  "kernelspec": {
   "display_name": "Python 3 (ipykernel)",
   "language": "python",
   "name": "python3"
  },
  "language_info": {
   "codemirror_mode": {
    "name": "ipython",
    "version": 3
   },
   "file_extension": ".py",
   "mimetype": "text/x-python",
   "name": "python",
   "nbconvert_exporter": "python",
   "pygments_lexer": "ipython3",
   "version": "3.9.12"
  }
 },
 "nbformat": 4,
 "nbformat_minor": 4
}
